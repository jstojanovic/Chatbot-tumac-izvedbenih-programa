{
 "cells": [
  {
   "cell_type": "code",
   "execution_count": null,
   "metadata": {},
   "outputs": [],
   "source": [
    "## slucajno sam obrisao repo ovo sam rekonstruisao do sad..\n",
    "# Učitavanje dokumenata\n",
    "loader = PyPDFDirectoryLoader('./')\n",
    "dokumenti = loader.load()"
   ]
  },
  {
   "cell_type": "code",
   "execution_count": null,
   "metadata": {},
   "outputs": [],
   "source": [
    "# Stvaranje baze znanja\n",
    "text_splitter = RecursiveCharacterTextSplitter(chunk_size=1000, overlap=100)\n",
    "\n",
    "iscjepkani_dokumenti = text_splitter.split_documents(docs)\n",
    "\n",
    "embeddings = OpenAIEmbeddings(openai_api_key=openai_api_key)\n",
    "baza_znanja = FAISS.from_documents(iscjepkani_dokumenti, embeddings)"
   ]
  },
  {
   "cell_type": "code",
   "execution_count": null,
   "metadata": {},
   "outputs": [],
   "source": [
    "retriever = baza_znanja.as_retriever()\n",
    "# interesantni_dokumenti = retriever.get_relevant_documents(\"Nepoznat string\")\n",
    "\n",
    "memory = ConversationBufferMemory(memory_key=\"chat_history\", retriever)\n",
    "pdf_qa = ConversationalRetrievalChain.from_llm(OpenAI(temperature=0.7))"
   ]
  },
  {
   "cell_type": "code",
   "execution_count": null,
   "metadata": {},
   "outputs": [],
   "source": [
    "upit = 'Do kada ce padati snijeg?'\n",
    "\n",
    "result = pdf_qa({\"question\": upit})\n",
    "\n",
    "print(\"Odgovor:\")\n",
    "result['answer']"
   ]
  },
  {
   "cell_type": "code",
   "execution_count": null,
   "metadata": {},
   "outputs": [],
   "source": []
  }
 ],
 "metadata": {
  "language_info": {
   "name": "python"
  },
  "orig_nbformat": 4
 },
 "nbformat": 4,
 "nbformat_minor": 2
}
